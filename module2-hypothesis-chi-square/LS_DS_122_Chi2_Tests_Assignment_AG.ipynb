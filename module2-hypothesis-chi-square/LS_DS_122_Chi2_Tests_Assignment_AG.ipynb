{
 "cells": [
  {
   "cell_type": "markdown",
   "source": [
    "## Autograded Notebook (Canvas & CodeGrade)\r\n",
    "\r\n",
    "This notebook will be automatically graded. It is designed to test your answers and award points for the correct answers. Following the instructions for each Task carefully.\r\n",
    "\r\n",
    "### Instructions\r\n",
    "\r\n",
    "* **Download this notebook** as you would any other ipynb file\r\n",
    "* **Upload** to Google Colab or work locally (if you have that set-up)\r\n",
    "* **Delete `raise NotImplementedError()`**\r\n",
    "* Write your code in the `# YOUR CODE HERE` space\r\n",
    "* **Execute** the Test cells that contain `assert` statements - these help you check your work (others contain hidden tests that will be checked when you submit through Canvas)\r\n",
    "* **Save** your notebook when you are finished\r\n",
    "* **Download** as a `ipynb` file (if working in Colab)\r\n",
    "* **Upload** your complete notebook to Canvas (there will be additional instructions in Slack and/or Canvas)"
   ],
   "metadata": {}
  },
  {
   "cell_type": "markdown",
   "source": [
    "# Lambda School Data Science - Unit 1 Sprint 2 Module 2\r\n",
    "\r\n",
    "## Hypothesis Testing - Chi square tests\r\n",
    "\r\n",
    "### Objectives\r\n",
    "\r\n",
    "* Objective 01 - explain the purpose of a chi-square test and identify applications\r\n",
    "* Objective 02 - set up a chi-square test for independence on two categorical variables\r\n",
    "* Objective 03 - use a chi-square test p-value to draw the correct conclusion about the null and alternative hypothesis\r\n",
    "* Objective 04 - explain how to compare the null hypothesis and sample and how randomness in the sampling process affect the result\r\n",
    "\r\n",
    "#### Total notebook points: 9"
   ],
   "metadata": {
    "id": "11OzdxWTM7UR"
   }
  },
  {
   "cell_type": "markdown",
   "source": [
    "### Introduction\r\n",
    "\r\n",
    "Slasher movies thrill audiences by portraying a lone antagonist (typically male) who attacks innocent victims with extreme violence and without apparent motive. However, this exciting (if gory) subgenre of horror film is criticized by those who view the violence as being used to “punish” female characters who engage in sexual activity during the film. \r\n",
    "\r\n",
    "### Dataset description:\r\n",
    "\r\n",
    "To test this claim, study authors randomly sampled 50 North American slasher films released from 1960 to 2009 and coded the 485 characters appearing in them as being male or female, involved in sexual activity or not, and if they survived the film or not. \r\n",
    "\r\n",
    "The data appears in the `Slasher.csv` dataset. In this project, we are going to answer a slightly simpler question: Are female characters in slasher films more likely to be \"murdered\" than male characters?\r\n",
    "\r\n",
    "You can find the `Slasher.csv` file and more information [here](https://github.com/LambdaSchool/data-science-practice-datasets/tree/main/unit_1/Slasher)\r\n",
    "\r\n",
    "*Source: A. Welsh (2010). \"On the Perils of Living Dangerously in the Slasher Horror Film: Gender Differences in the Association Between Sexual Activity and Survival,\" Sex Roles, Vol. 62 pp. 762-773*"
   ],
   "metadata": {
    "id": "Q6x9gnZ4mY84"
   }
  },
  {
   "cell_type": "markdown",
   "source": [
    "**Task 1** - Load the data\r\n",
    "\r\n",
    "Let's load the data! The URL has been provided as well as the imports for pandas and numpy.\r\n",
    "\r\n",
    "* load your CSV file into a DataFrame named `df_slasher`"
   ],
   "metadata": {
    "id": "k52V7jhtnAVz"
   }
  },
  {
   "cell_type": "code",
   "execution_count": 73,
   "source": [
    "# Task 1\r\n",
    "\r\n",
    "# Imports \r\n",
    "import pandas as pd\r\n",
    "import numpy as np\r\n",
    "import scipy.stats as stats\r\n",
    "data_url = 'https://raw.githubusercontent.com/LambdaSchool/data-science-practice-datasets/main/unit_1/Slasher/Slasher.csv'\r\n",
    "\r\n",
    "# YOUR CODE HERE\r\n",
    "df_slasher = pd.read_csv(data_url)\r\n",
    "# Print out your DataFrame\r\n",
    "df_slasher.head()"
   ],
   "outputs": [
    {
     "output_type": "execute_result",
     "data": {
      "text/html": [
       "<div>\n",
       "<style scoped>\n",
       "    .dataframe tbody tr th:only-of-type {\n",
       "        vertical-align: middle;\n",
       "    }\n",
       "\n",
       "    .dataframe tbody tr th {\n",
       "        vertical-align: top;\n",
       "    }\n",
       "\n",
       "    .dataframe thead th {\n",
       "        text-align: right;\n",
       "    }\n",
       "</style>\n",
       "<table border=\"1\" class=\"dataframe\">\n",
       "  <thead>\n",
       "    <tr style=\"text-align: right;\">\n",
       "      <th></th>\n",
       "      <th>ID</th>\n",
       "      <th>Gender</th>\n",
       "      <th>Activity</th>\n",
       "      <th>Survival</th>\n",
       "    </tr>\n",
       "  </thead>\n",
       "  <tbody>\n",
       "    <tr>\n",
       "      <th>0</th>\n",
       "      <td>1</td>\n",
       "      <td>1</td>\n",
       "      <td>1</td>\n",
       "      <td>1</td>\n",
       "    </tr>\n",
       "    <tr>\n",
       "      <th>1</th>\n",
       "      <td>2</td>\n",
       "      <td>1</td>\n",
       "      <td>1</td>\n",
       "      <td>1</td>\n",
       "    </tr>\n",
       "    <tr>\n",
       "      <th>2</th>\n",
       "      <td>3</td>\n",
       "      <td>1</td>\n",
       "      <td>1</td>\n",
       "      <td>1</td>\n",
       "    </tr>\n",
       "    <tr>\n",
       "      <th>3</th>\n",
       "      <td>4</td>\n",
       "      <td>1</td>\n",
       "      <td>1</td>\n",
       "      <td>1</td>\n",
       "    </tr>\n",
       "    <tr>\n",
       "      <th>4</th>\n",
       "      <td>5</td>\n",
       "      <td>1</td>\n",
       "      <td>1</td>\n",
       "      <td>1</td>\n",
       "    </tr>\n",
       "  </tbody>\n",
       "</table>\n",
       "</div>"
      ],
      "text/plain": [
       "   ID  Gender  Activity  Survival\n",
       "0   1       1         1         1\n",
       "1   2       1         1         1\n",
       "2   3       1         1         1\n",
       "3   4       1         1         1\n",
       "4   5       1         1         1"
      ]
     },
     "metadata": {},
     "execution_count": 73
    }
   ],
   "metadata": {
    "colab": {
     "base_uri": "https://localhost:8080/",
     "height": 204
    },
    "deletable": false,
    "id": "UQwvrhn7m3Mn",
    "nbgrader": {
     "cell_type": "code",
     "checksum": "2e829144ca7fa7cf960e43151e5daed5",
     "grade": false,
     "grade_id": "cell-6fc98919867ff62a",
     "locked": false,
     "schema_version": 3,
     "solution": true,
     "task": false
    },
    "outputId": "7a1dd1e2-a233-478c-8e5d-0ecf13fbe93c"
   }
  },
  {
   "cell_type": "markdown",
   "source": [
    "**Task 1 Test**"
   ],
   "metadata": {
    "id": "gHhy3LM_nAV1"
   }
  },
  {
   "cell_type": "code",
   "execution_count": 74,
   "source": [
    "# Task 1 - Test\r\n",
    "\r\n",
    "assert isinstance(df_slasher, pd.DataFrame), 'Have you created a DataFrame named `df_slasher`?'\r\n",
    "assert len(df_slasher) == 485\r\n"
   ],
   "outputs": [],
   "metadata": {
    "deletable": false,
    "editable": false,
    "id": "RwCQjQZvnAV1",
    "nbgrader": {
     "cell_type": "code",
     "checksum": "03bde8e4f6611a0622ce84a079e3219c",
     "grade": true,
     "grade_id": "cell-75ba90304308fa78",
     "locked": true,
     "points": 1,
     "schema_version": 3,
     "solution": false,
     "task": false
    }
   }
  },
  {
   "cell_type": "markdown",
   "source": [
    "**Task 2**- Character percentages\r\n",
    "\r\n",
    "In this dataset, the variable codes are:\r\n",
    "\r\n",
    "* ID = Character ID\r\n",
    "* Gender = Character gender.  0 = male, 1 = female\r\n",
    "* Activity = Character was portrayed as engaged in sexual activity.  0 = no, 1 = yes\r\n",
    "* Survival = Character survival in the film. 0 = did not survive, 1 = survived\r\n",
    "\r\n",
    "Your task is to calculate the frequency and relative frequency of male and female characters in this set of slasher films.\r\n",
    "\r\n",
    "* Compute the freqencies for \"Gender\" for this dataset; call your table `gender_frequencies`\r\n",
    "* Compute the relative frequency of female characters and call this value `f_percent`\r\n",
    "* Compute the relative frequency of male characters and call this value `m_percent`"
   ],
   "metadata": {
    "id": "pabzhfvLbdFZ"
   }
  },
  {
   "cell_type": "code",
   "execution_count": 75,
   "source": [
    "# Task 2\r\n",
    "gender_frequencies = df_slasher['Gender'].value_counts(normalize=True) * 100\r\n",
    "m_percent = gender_frequencies[0]\r\n",
    "f_percent = gender_frequencies[1]\r\n",
    "# YOUR CODE HERE\r\n"
   ],
   "outputs": [],
   "metadata": {
    "deletable": false,
    "id": "9gIQaRsQbt77",
    "nbgrader": {
     "cell_type": "code",
     "checksum": "f37b78a41616862c7bd11114d7b500ab",
     "grade": false,
     "grade_id": "cell-77288bfcb8830288",
     "locked": false,
     "schema_version": 3,
     "solution": true,
     "task": false
    }
   }
  },
  {
   "cell_type": "markdown",
   "source": [
    "**Task 2 Test**"
   ],
   "metadata": {
    "id": "HowCFoUDnAV4"
   }
  },
  {
   "cell_type": "code",
   "execution_count": 76,
   "source": [
    "# Task 2 - Test\r\n",
    "\r\n",
    "assert isinstance(gender_frequencies, pd.Series), 'Have you calculated the gender frequencies?'\r\n"
   ],
   "outputs": [],
   "metadata": {
    "deletable": false,
    "editable": false,
    "id": "9B49CpHKnAV4",
    "nbgrader": {
     "cell_type": "code",
     "checksum": "4e4b6b8df97fc568cba7d318e331d2b0",
     "grade": true,
     "grade_id": "cell-fa87a73164a68756",
     "locked": true,
     "points": 1,
     "schema_version": 3,
     "solution": false,
     "task": false
    }
   }
  },
  {
   "cell_type": "markdown",
   "source": [
    "**Task 3** - Character survival\r\n",
    "\r\n",
    "Calculate the frequency and relative frequency of character survival in this set of slasher films.\r\n",
    "\r\n",
    "* Compute the frequencies for \"Survival\" for this dataset; call your table `survival_frequencies`\r\n",
    "* Compute the frequency of character survival and call this value `survival`. Make sure to multiply by 100 so your value is a percent."
   ],
   "metadata": {
    "id": "hC68nyUxnAV4"
   }
  },
  {
   "cell_type": "code",
   "execution_count": 77,
   "source": [
    "# Task 3\r\n",
    "\r\n",
    "# YOUR CODE HERE\r\n",
    "survival_frequencies = df_slasher['Survival'].value_counts(\r\n",
    "    normalize=True) * 100\r\n",
    "survival = survival_frequencies[1]\r\n",
    "# Print the percentage of characters that survive\r\n",
    "print('Percentage of characters that survive:', survival)\r\n"
   ],
   "outputs": [
    {
     "output_type": "stream",
     "name": "stdout",
     "text": [
      "Percentage of characters that survive: 17.525773195876287\n"
     ]
    }
   ],
   "metadata": {
    "colab": {
     "base_uri": "https://localhost:8080/"
    },
    "deletable": false,
    "id": "eATj3sKHnU_c",
    "nbgrader": {
     "cell_type": "code",
     "checksum": "f3c5970ccfde929c4bd4601f7b86e734",
     "grade": false,
     "grade_id": "cell-4eab48a75311bc76",
     "locked": false,
     "schema_version": 3,
     "solution": true,
     "task": false
    },
    "outputId": "8d359e44-2766-43f1-a14f-aa4d3fe934e2"
   }
  },
  {
   "cell_type": "markdown",
   "source": [
    "**Task 3 Test**"
   ],
   "metadata": {
    "id": "M2E_0iu9nAV5"
   }
  },
  {
   "cell_type": "code",
   "execution_count": 78,
   "source": [
    "# Task 3 - Test\r\n",
    "\r\n",
    "assert isinstance(survival_frequencies, pd.Series), 'Have you created the frequency table?'\r\n"
   ],
   "outputs": [],
   "metadata": {
    "deletable": false,
    "editable": false,
    "id": "BtK-cYyjnAV5",
    "nbgrader": {
     "cell_type": "code",
     "checksum": "5047d900e52b72361a95b7563ffa1d27",
     "grade": true,
     "grade_id": "cell-65f8fe93bcc71e0e",
     "locked": true,
     "points": 1,
     "schema_version": 3,
     "solution": false,
     "task": false
    }
   }
  },
  {
   "cell_type": "markdown",
   "source": [
    "**Task 4**- Joint distribution: character survival and character sex\r\n",
    "\r\n",
    "Next, we're going to calculate the joint distribution of *character sex (\"Gender\")* and movie *survival*. \r\n",
    "\r\n",
    "* Compute the joint distribution for character sex and survival and name your DataFrame `survival_fm_crosstab`. \r\n",
    "    * **Make sure to use the following order of your variables: \"Gender\", \"Survival\"**\r\n",
    "\r\n",
    "*Hint: If you are working from the in-class examples, it will be helpful to include character sex as the index variable. But play around with the arguments of `pd.crosstab()` to get a better idea of your table.*"
   ],
   "metadata": {
    "id": "0K1kuj8yb5BD"
   }
  },
  {
   "cell_type": "code",
   "execution_count": 79,
   "source": [
    "# Task 4\r\n",
    "\r\n",
    "# YOUR CODE HERE\r\n",
    "survival_fm_crosstab = pd.crosstab(\r\n",
    "    df_slasher['Gender'], df_slasher['Survival'])\r\n",
    "# Print the table\r\n",
    "print(survival_fm_crosstab)\r\n"
   ],
   "outputs": [
    {
     "output_type": "stream",
     "name": "stdout",
     "text": [
      "Survival    0   1\n",
      "Gender           \n",
      "0         228  35\n",
      "1         172  50\n"
     ]
    }
   ],
   "metadata": {
    "colab": {
     "base_uri": "https://localhost:8080/"
    },
    "deletable": false,
    "id": "c1jdZv29nAV6",
    "nbgrader": {
     "cell_type": "code",
     "checksum": "fdb0400cbf5d01522aa3741819aeceae",
     "grade": false,
     "grade_id": "cell-e352e1d8addc4d6f",
     "locked": false,
     "schema_version": 3,
     "solution": true,
     "task": false
    },
    "outputId": "59b1820c-f21b-414a-c466-b74faa1da0ac"
   }
  },
  {
   "cell_type": "markdown",
   "source": [
    "**Task 4 Test**"
   ],
   "metadata": {
    "id": "Asi1QKnsnAV6"
   }
  },
  {
   "cell_type": "code",
   "execution_count": 80,
   "source": [
    "# Task 4 - Test\r\n",
    "\r\n",
    "assert isinstance(survival_fm_crosstab, pd.DataFrame), 'Have you created the crosstab DataFrame?'\r\n"
   ],
   "outputs": [],
   "metadata": {
    "deletable": false,
    "editable": false,
    "id": "sa2yoOhUnAV6",
    "nbgrader": {
     "cell_type": "code",
     "checksum": "1e0ecaf7c6124b3a86aa8aa5310ea391",
     "grade": true,
     "grade_id": "cell-c8de59a977bfeef3",
     "locked": true,
     "points": 1,
     "schema_version": 3,
     "solution": false,
     "task": false
    }
   }
  },
  {
   "cell_type": "markdown",
   "source": [
    "**Task 5** - Joint distribution with margins\r\n",
    "\r\n",
    "Now we're going to find the joint distribution but this time add in the **table margins**.\r\n",
    "\r\n",
    "* Compute the joint distribution and assign this to a variable called `survival_fm_margins`."
   ],
   "metadata": {
    "id": "IRU0Hd1-wCpW"
   }
  },
  {
   "cell_type": "code",
   "execution_count": 81,
   "source": [
    "# Task 5\r\n",
    "\r\n",
    "# YOUR CODE HERE\r\n",
    "survival_fm_margins = pd.crosstab(\r\n",
    "    df_slasher['Gender'], df_slasher['Survival'], margins='table')\r\n",
    "# Print the table\r\n",
    "print(survival_fm_margins)\r\n"
   ],
   "outputs": [
    {
     "output_type": "stream",
     "name": "stdout",
     "text": [
      "Survival    0   1  All\n",
      "Gender                \n",
      "0         228  35  263\n",
      "1         172  50  222\n",
      "All       400  85  485\n"
     ]
    }
   ],
   "metadata": {
    "colab": {
     "base_uri": "https://localhost:8080/"
    },
    "deletable": false,
    "id": "PAe3sdeqoLnh",
    "nbgrader": {
     "cell_type": "code",
     "checksum": "75ea2e5cd2ae9294788681374281bde7",
     "grade": false,
     "grade_id": "cell-189d3e0240b44010",
     "locked": false,
     "schema_version": 3,
     "solution": true,
     "task": false
    },
    "outputId": "370ca20e-b59a-45d8-cb6a-e579a4b37a6b"
   }
  },
  {
   "cell_type": "markdown",
   "source": [
    "**Task 5 Test**"
   ],
   "metadata": {
    "id": "3qGKjESVTCva"
   }
  },
  {
   "cell_type": "code",
   "execution_count": 82,
   "source": [
    "# Task 5 Test\r\n",
    "\r\n",
    "assert isinstance(survival_fm_margins, pd.DataFrame), 'Did you create your joint distribution DataFrame?'\r\n",
    "assert survival_fm_margins.shape == (3,3), \"Did you include the margins in your distribution?\"\r\n",
    "\r\n",
    "# NO hidden tests for this task"
   ],
   "outputs": [],
   "metadata": {
    "deletable": false,
    "editable": false,
    "id": "evONIn2kTCvb",
    "nbgrader": {
     "cell_type": "code",
     "checksum": "28c728b005e1d2ee587d6e949e72ecfc",
     "grade": true,
     "grade_id": "cell-e4038cbf2add26d5",
     "locked": true,
     "points": 1,
     "schema_version": 3,
     "solution": false,
     "task": false
    }
   }
  },
  {
   "cell_type": "markdown",
   "source": [
    "**Task 6** - Joint distribution with normalization\r\n",
    "\r\n",
    "Okay, now let's look at the distribution using the `normalize` argument. We want to compare the *relative* rate of survival. Calculate the distribution of survival conditional on character sex.\r\n",
    "\r\n",
    "* Compute the joint distribution for character sex and survival and name your DataFrame `survival_fm_crosstab_norm` **and** normalize on the \"index\"\r\n",
    "* Multiply the resulting DataFrame by 100 to return answers as percents\r\n",
    "* Assign the *survival* percentage of female characters to the variable `survival_f`"
   ],
   "metadata": {
    "id": "Pf9boTsRpe9J"
   }
  },
  {
   "cell_type": "code",
   "execution_count": 83,
   "source": [
    "# Task 6\r\n",
    "\r\n",
    "# YOUR CODE HERE\r\n",
    "survival_fm_crosstab_norm = pd.crosstab(\r\n",
    "    df_slasher['Gender'], df_slasher['Survival'], normalize = 'index') * 100\r\n",
    "# Print the percentage of female characters that survive\r\n",
    "survival_f = survival_fm_crosstab_norm[1][1]\r\n",
    "print(survival_fm_crosstab_norm)\r\n",
    "print('Female character survival:', survival_f)\r\n"
   ],
   "outputs": [
    {
     "output_type": "stream",
     "name": "stdout",
     "text": [
      "Survival          0          1\n",
      "Gender                        \n",
      "0         86.692015  13.307985\n",
      "1         77.477477  22.522523\n",
      "Female character survival: 22.52252252252252\n"
     ]
    }
   ],
   "metadata": {
    "colab": {
     "base_uri": "https://localhost:8080/"
    },
    "deletable": false,
    "id": "ByWE_M1RpqSy",
    "nbgrader": {
     "cell_type": "code",
     "checksum": "5c02c4a8a74a110046fd3acd106eb821",
     "grade": false,
     "grade_id": "cell-07bcddfda3e9b061",
     "locked": false,
     "schema_version": 3,
     "solution": true,
     "task": false
    },
    "outputId": "fb69efd2-34d3-4c5f-cc36-e7d806e0e617"
   }
  },
  {
   "cell_type": "markdown",
   "source": [
    "**Task 6 Test**"
   ],
   "metadata": {
    "id": "Kv34u-WRnAV8"
   }
  },
  {
   "cell_type": "code",
   "execution_count": 84,
   "source": [
    "# Task 6 - Test\r\n",
    "\r\n",
    "assert isinstance(survival_fm_crosstab_norm, pd.DataFrame), 'Have you created the crosstab DataFrame?'\r\n",
    "assert survival_fm_crosstab_norm.all().min(axis=0) >= 1.0, \"Did you multiply your values by 100?\"\r\n"
   ],
   "outputs": [],
   "metadata": {
    "deletable": false,
    "editable": false,
    "id": "3H8ZZkWTnAV8",
    "nbgrader": {
     "cell_type": "code",
     "checksum": "3c5e3a961f6d139391cb0a98ff272ece",
     "grade": true,
     "grade_id": "cell-4ebc53965ebbe59c",
     "locked": true,
     "points": 1,
     "schema_version": 3,
     "solution": false,
     "task": false
    }
   }
  },
  {
   "cell_type": "markdown",
   "source": [
    "**Task 7 -** Statistical hypotheses\r\n",
    "\r\n",
    "From the list of choices below, select the null and alternative hypotheses to test for a statistically significant relationship between character sex and survival.  Specify your answer in the next code block using `Answer = `.  For example, if the correct answer is choice B, you'll type `Answer = 'B'`.\r\n",
    "\r\n",
    "A: $H_0$: Character sex and survival are related vs. $H_a$: Character sex and survival are unrelated$\r\n",
    "\r\n",
    "B: $H_0$: Character sex and survival are unrelated vs. $H_a$: Character sex and survival are related$\r\n",
    "\r\n",
    "C: $H_0: \\mu_1 \\neq \\mu_2$ vs. $H_a: \\mu_1 = \\mu_2$\r\n",
    "\r\n",
    "D: $H_0: \\mu_1 = \\mu_2$ vs. $H_a: \\mu_1 \\neq \\mu_2$"
   ],
   "metadata": {
    "id": "jPmpfULFFQmz"
   }
  },
  {
   "cell_type": "code",
   "execution_count": 85,
   "source": [
    "# Task 7\r\n",
    "\r\n",
    "# YOUR CODE HERE\r\n",
    "Answer = 'B'"
   ],
   "outputs": [],
   "metadata": {
    "deletable": false,
    "id": "AhGVMf2tK2LF",
    "nbgrader": {
     "cell_type": "code",
     "checksum": "5ae5320c312db3a2242ab6f0b53ce9a0",
     "grade": false,
     "grade_id": "cell-30b52f5456b3b862",
     "locked": false,
     "schema_version": 3,
     "solution": true,
     "task": false
    }
   }
  },
  {
   "cell_type": "markdown",
   "source": [
    "**Task 7 Test**"
   ],
   "metadata": {
    "id": "kbd9KuumLBxO"
   }
  },
  {
   "cell_type": "code",
   "execution_count": 86,
   "source": [
    "# Task 7 - Test\r\n",
    "# Hidden tests - you will see the results when you submit to Canvas"
   ],
   "outputs": [],
   "metadata": {
    "deletable": false,
    "editable": false,
    "id": "1DX4-ekiLBxX",
    "nbgrader": {
     "cell_type": "code",
     "checksum": "db38c6d4257b594ff862e308b8451bd7",
     "grade": true,
     "grade_id": "cell-3970fbb1a3eaefb5",
     "locked": true,
     "points": 1,
     "schema_version": 3,
     "solution": false,
     "task": false
    }
   }
  },
  {
   "cell_type": "markdown",
   "source": [
    "**Task 8** - Chi-square test\r\n",
    "\r\n",
    "Perform the chi-square test above using `stats.chi2_contingency()`. The docs for this function are found [here](https://docs.scipy.org/doc/scipy/reference/generated/scipy.stats.chi2_contingency.html).\r\n",
    "\r\n",
    "* Compute the chi-square test and assign the p-value to the variable `p_val`\r\n",
    "* Assign the other variables returned by the function to any variable names you prefer\r\n"
   ],
   "metadata": {
    "id": "RXPZZuAi3ccI"
   }
  },
  {
   "cell_type": "code",
   "execution_count": 98,
   "source": [
    "# Task 8\r\n",
    "\r\n",
    "# Import the scipy.stats function\r\n",
    "from scipy.stats import chi2_contingency\r\n",
    "\r\n",
    "# YOUR CODE HERE\r\n",
    "tstat, p_val, dof, expected = stats.chi2_contingency(\r\n",
    "    pd.crosstab(df_slasher['Gender'], df_slasher['Survival']))\r\n",
    "# Print out the p-value\r\n",
    "print('The p-value is:', p_val)\r\n",
    "print(pd.crosstab(df_slasher['Gender'], df_slasher['Survival']))\r\n",
    "print(expected)\r\n"
   ],
   "outputs": [
    {
     "output_type": "stream",
     "name": "stdout",
     "text": [
      "The p-value is: 0.011104692591139975\n",
      "Survival    0   1\n",
      "Gender           \n",
      "0         228  35\n",
      "1         172  50\n",
      "[[216.90721649  46.09278351]\n",
      " [183.09278351  38.90721649]]\n"
     ]
    }
   ],
   "metadata": {
    "deletable": false,
    "id": "Ckcr4A4FM7cs",
    "nbgrader": {
     "cell_type": "code",
     "checksum": "5cf25f00109b073102cf50221f1f164e",
     "grade": false,
     "grade_id": "cell-59971eb26fc7eb81",
     "locked": false,
     "schema_version": 3,
     "solution": true,
     "task": false
    },
    "outputId": "7cbad7de-cc10-45fc-a2a9-59fe17b3f43f"
   }
  },
  {
   "cell_type": "markdown",
   "source": [
    "**Task 8 Test**"
   ],
   "metadata": {
    "id": "AdxjJWabnAV9"
   }
  },
  {
   "cell_type": "code",
   "execution_count": null,
   "source": [
    "# Task 8 Test\r\n",
    "# Hidden tests - you will see the results when you submit to Canvas"
   ],
   "outputs": [],
   "metadata": {
    "deletable": false,
    "editable": false,
    "id": "rxfmQ5dhd-uU",
    "nbgrader": {
     "cell_type": "code",
     "checksum": "d0a01ae05214928000091f1c20803ce0",
     "grade": true,
     "grade_id": "cell-5323235fa717e7a6",
     "locked": true,
     "points": 1,
     "schema_version": 3,
     "solution": false,
     "task": false
    }
   }
  },
  {
   "cell_type": "markdown",
   "source": [
    "**Task 9**\r\n",
    "\r\n",
    "Select the correct conclusion at the 0.05 significance level from the list of choices below. Specify your answer in the next code block using `Answer = `.  For example, if the correct answer is choice B, you'll type `Answer = 'B'`.\r\n",
    "\r\n",
    "A: We reject the null hypothesis at the 0.05 significance level and conclude that character survival and sex are related.\r\n",
    "\r\n",
    "B: We fail to reject the null hypothesis at the 0.05 significance level and conclude that character survival and sex are related.\r\n",
    "\r\n",
    "C: We reject the null hypothesis at the 0.05 significance level and conclude that character survival and sex are unrelated.\r\n",
    "\r\n",
    "D: We fail to reject the null hypothesis at the 0.05 significance level and conclude that character survival and sex are unrelated.\r\n"
   ],
   "metadata": {
    "id": "nusDTdXxOyUB"
   }
  },
  {
   "cell_type": "code",
   "execution_count": null,
   "source": [
    "# Task 9\r\n",
    "Answer = 'A'\r\n",
    "# YOUR CODE HERE\r\n"
   ],
   "outputs": [],
   "metadata": {
    "deletable": false,
    "id": "d5n9MhFFOyUN",
    "nbgrader": {
     "cell_type": "code",
     "checksum": "21d78afcbddb90bb465e5e01b61dec3c",
     "grade": false,
     "grade_id": "cell-7439036abda09940",
     "locked": false,
     "schema_version": 3,
     "solution": true,
     "task": false
    }
   }
  },
  {
   "cell_type": "markdown",
   "source": [
    "**Task 9 Test**"
   ],
   "metadata": {
    "id": "DWAMbt2VOyUN"
   }
  },
  {
   "cell_type": "code",
   "execution_count": null,
   "source": [
    "# Task 9 - Test\r\n",
    "# Hidden tests - you will see the results when you submit to Canvas"
   ],
   "outputs": [],
   "metadata": {
    "deletable": false,
    "editable": false,
    "nbgrader": {
     "cell_type": "code",
     "checksum": "24446631f95584154a2b9556427547fe",
     "grade": true,
     "grade_id": "cell-82f8ab425d287ebf",
     "locked": true,
     "points": 1,
     "schema_version": 3,
     "solution": false,
     "task": false
    }
   }
  },
  {
   "cell_type": "markdown",
   "source": [
    "**Task 10** - Create a bar plot\r\n",
    "\r\n",
    "Create a side-by-side bar plot to illustrate the relationship between character sex and survival in slasher movies.  Sum up your overall results in a sentence or two.\r\n",
    "\r\n",
    "This task will not be autograded - but it is part of completing the project."
   ],
   "metadata": {
    "id": "6fuCbToDLTO0"
   }
  },
  {
   "cell_type": "code",
   "execution_count": 100,
   "source": [
    "# Task 10\r\n",
    "pd.crosstab(df_slasher['Gender'], df_slasher['Survival']).plot(kind= 'bar', title= 'actual')\r\n",
    "pd.DataFrame(expected).plot(kind= 'bar', title='expected')\r\n",
    "# YOUR CODE HERE\r\n"
   ],
   "outputs": [
    {
     "output_type": "execute_result",
     "data": {
      "text/plain": [
       "<AxesSubplot:title={'center':'expected'}>"
      ]
     },
     "metadata": {},
     "execution_count": 100
    },
    {
     "output_type": "display_data",
     "data": {
      "image/png": "[encoded data removed]",
      "text/plain": [
       "<Figure size 432x288 with 1 Axes>"
      ]
     },
     "metadata": {
      "needs_background": "light"
     }
    },
    {
     "output_type": "display_data",
     "data": {
      "image/png": "[encoded data removed]",
      "text/plain": [
       "<Figure size 432x288 with 1 Axes>"
      ]
     },
     "metadata": {
      "needs_background": "light"
     }
    }
   ],
   "metadata": {
    "colab": {
     "base_uri": "https://localhost:8080/",
     "height": 279
    },
    "deletable": false,
    "id": "Et5DtusY6maX",
    "nbgrader": {
     "cell_type": "code",
     "checksum": "91a96e385fa1619889e2de29a1573435",
     "grade": false,
     "grade_id": "cell-9dcec716593d4543",
     "locked": false,
     "schema_version": 3,
     "solution": true,
     "task": false
    },
    "outputId": "88c2cfdf-31b3-4eb6-bb4c-f4b2f91d1d62"
   }
  },
  {
   "cell_type": "markdown",
   "source": [
    "**Task 10** - ANSWER\r\n",
    "We see that there is a difference in the expected data and actual data. More female characters survive in the actual data vs males thus we can reject the null hypotheses and say that sex and survival are related."
   ],
   "metadata": {
    "id": "-5i4sKcynAV_"
   }
  }
 ],
 "metadata": {
  "colab": {
   "collapsed_sections": [],
   "name": "LS_DS_122_Chi2_Tests_Assignment_AG.ipynb",
   "provenance": []
  },
  "kernelspec": {
   "name": "python3",
   "display_name": "Python 3.9.6 64-bit"
  },
  "language_info": {
   "codemirror_mode": {
    "name": "ipython",
    "version": 3
   },
   "file_extension": ".py",
   "mimetype": "text/x-python",
   "name": "python",
   "nbconvert_exporter": "python",
   "pygments_lexer": "ipython3",
   "version": "3.9.6"
  },
  "interpreter": {
   "hash": "4b7a67c094ca4859574ab7812cb20959fc8d8ba5f9f349a7149ef35bab6b6336"
  }
 },
 "nbformat": 4,
 "nbformat_minor": 1
}