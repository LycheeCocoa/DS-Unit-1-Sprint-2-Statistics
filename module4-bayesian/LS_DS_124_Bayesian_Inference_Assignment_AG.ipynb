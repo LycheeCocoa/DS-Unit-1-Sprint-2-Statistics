{
 "cells": [
  {
   "cell_type": "markdown",
   "source": [
    "## Autograded Notebook (Canvas & CodeGrade)\n",
    "\n",
    "This notebook will be automatically graded. It is designed to test your answers and award points for the correct answers. Following the instructions for each Task carefully.\n",
    "\n",
    "### Instructions\n",
    "\n",
    "* **Download this notebook** as you would any other ipynb file\n",
    "* **Upload** to Google Colab or work locally (if you have that set-up)\n",
    "* **Delete `raise NotImplementedError()`**\n",
    "* Write your code in the `# YOUR CODE HERE` space\n",
    "* **Execute** the Test cells that contain `assert` statements - these help you check your work (others contain hidden tests that will be checked when you submit through Canvas)\n",
    "* **Save** your notebook when you are finished\n",
    "* **Download** as a `ipynb` file (if working in Colab)\n",
    "* **Upload** your complete notebook to Canvas (there will be additional instructions in Slack and/or Canvas)"
   ],
   "metadata": {}
  },
  {
   "cell_type": "markdown",
   "source": [
    "# Lambda School Data Science - Unit 1 Sprint 2 Module 4\n",
    "\n",
    "## Module Project: Introduction to Bayesian Inference\n",
    "\n",
    "\n",
    "\n",
    "#### Total notebook points: 12"
   ],
   "metadata": {
    "id": "H7OLbevlbd_Z"
   }
  },
  {
   "cell_type": "markdown",
   "source": [
    "## Introduction\n",
    "\n",
    "In this project, we're going to practice calculating conditional probabilities. You will use Python and the pandas cross tabulation method to look at various survival scenarios. After you complete the Titanic calculations, we'll visit the Harry Potter Universe and apply what we learned to the Sorting Hat situation at Hogwarts (a detailed description of the problem is provided - you don't need to have any familiarity with the Harry Potter books or movies). \n",
    "\n",
    "### Data set\n",
    "\n",
    "We'll be working with the Titanic dataset for this Module Project. It is available in various locations but the data at the URL provided is what we'll use today."
   ],
   "metadata": {
    "id": "qYfsB9myfV0l"
   }
  },
  {
   "cell_type": "markdown",
   "source": [
    "### Warmup Question\n",
    "\n",
    "In your own words, summarize the difference between Bayesian and Frequentist statistics.\n",
    "\n",
    "ANSWER:"
   ],
   "metadata": {
    "id": "iliKwAvIKbyD"
   }
  },
  {
   "cell_type": "markdown",
   "source": [
    "## Part A\n",
    "\n",
    "### Conditional Probabilities \n",
    "\n",
    "For Tasks 1 - 8 use the following information:\n",
    "\n",
    "Let **A** be the event of surviving the sinking of the Titanic and **B** be the event of being a 1st class passenger."
   ],
   "metadata": {
    "id": "db4m0HhBCMhR"
   }
  },
  {
   "cell_type": "markdown",
   "source": [
    "**Task 1** - Load the data\n",
    "\n",
    "As we usually begin, let's load the data! The URL has been provided.\n",
    "\n",
    "* load your CSV file into a DataFrame named `df`"
   ],
   "metadata": {
    "id": "bvFf3ycYfV0m"
   }
  },
  {
   "cell_type": "code",
   "execution_count": 389,
   "source": [
    "# Task 1\r\n",
    "\r\n",
    "import pandas as pd\r\n",
    "import numpy as np\r\n",
    "\r\n",
    "data_url = 'https://raw.githubusercontent.com/LambdaSchool/data-science-practice-datasets/main/unit_1/Titanic/Titanic.csv'\r\n",
    "# YOUR CODE HERE\r\n",
    "df = pd.read_csv(data_url)\r\n",
    "# View the DataFrame\r\n",
    "df.head()"
   ],
   "outputs": [
    {
     "output_type": "execute_result",
     "data": {
      "text/html": [
       "<div>\n",
       "<style scoped>\n",
       "    .dataframe tbody tr th:only-of-type {\n",
       "        vertical-align: middle;\n",
       "    }\n",
       "\n",
       "    .dataframe tbody tr th {\n",
       "        vertical-align: top;\n",
       "    }\n",
       "\n",
       "    .dataframe thead th {\n",
       "        text-align: right;\n",
       "    }\n",
       "</style>\n",
       "<table border=\"1\" class=\"dataframe\">\n",
       "  <thead>\n",
       "    <tr style=\"text-align: right;\">\n",
       "      <th></th>\n",
       "      <th>Survived</th>\n",
       "      <th>Pclass</th>\n",
       "      <th>Name</th>\n",
       "      <th>Sex</th>\n",
       "      <th>Age</th>\n",
       "      <th>Siblings/Spouses_Aboard</th>\n",
       "      <th>Parents/Children_Aboard</th>\n",
       "      <th>Fare</th>\n",
       "    </tr>\n",
       "  </thead>\n",
       "  <tbody>\n",
       "    <tr>\n",
       "      <th>0</th>\n",
       "      <td>0</td>\n",
       "      <td>3</td>\n",
       "      <td>Mr. Owen Harris Braund</td>\n",
       "      <td>male</td>\n",
       "      <td>22.0</td>\n",
       "      <td>1</td>\n",
       "      <td>0</td>\n",
       "      <td>7.2500</td>\n",
       "    </tr>\n",
       "    <tr>\n",
       "      <th>1</th>\n",
       "      <td>1</td>\n",
       "      <td>1</td>\n",
       "      <td>Mrs. John Bradley (Florence Briggs Thayer) Cum...</td>\n",
       "      <td>female</td>\n",
       "      <td>38.0</td>\n",
       "      <td>1</td>\n",
       "      <td>0</td>\n",
       "      <td>71.2833</td>\n",
       "    </tr>\n",
       "    <tr>\n",
       "      <th>2</th>\n",
       "      <td>1</td>\n",
       "      <td>3</td>\n",
       "      <td>Miss. Laina Heikkinen</td>\n",
       "      <td>female</td>\n",
       "      <td>26.0</td>\n",
       "      <td>0</td>\n",
       "      <td>0</td>\n",
       "      <td>7.9250</td>\n",
       "    </tr>\n",
       "    <tr>\n",
       "      <th>3</th>\n",
       "      <td>1</td>\n",
       "      <td>1</td>\n",
       "      <td>Mrs. Jacques Heath (Lily May Peel) Futrelle</td>\n",
       "      <td>female</td>\n",
       "      <td>35.0</td>\n",
       "      <td>1</td>\n",
       "      <td>0</td>\n",
       "      <td>53.1000</td>\n",
       "    </tr>\n",
       "    <tr>\n",
       "      <th>4</th>\n",
       "      <td>0</td>\n",
       "      <td>3</td>\n",
       "      <td>Mr. William Henry Allen</td>\n",
       "      <td>male</td>\n",
       "      <td>35.0</td>\n",
       "      <td>0</td>\n",
       "      <td>0</td>\n",
       "      <td>8.0500</td>\n",
       "    </tr>\n",
       "  </tbody>\n",
       "</table>\n",
       "</div>"
      ],
      "text/plain": [
       "   Survived  Pclass                                               Name  \\\n",
       "0         0       3                             Mr. Owen Harris Braund   \n",
       "1         1       1  Mrs. John Bradley (Florence Briggs Thayer) Cum...   \n",
       "2         1       3                              Miss. Laina Heikkinen   \n",
       "3         1       1        Mrs. Jacques Heath (Lily May Peel) Futrelle   \n",
       "4         0       3                            Mr. William Henry Allen   \n",
       "\n",
       "      Sex   Age  Siblings/Spouses_Aboard  Parents/Children_Aboard     Fare  \n",
       "0    male  22.0                        1                        0   7.2500  \n",
       "1  female  38.0                        1                        0  71.2833  \n",
       "2  female  26.0                        0                        0   7.9250  \n",
       "3  female  35.0                        1                        0  53.1000  \n",
       "4    male  35.0                        0                        0   8.0500  "
      ]
     },
     "metadata": {},
     "execution_count": 389
    }
   ],
   "metadata": {
    "colab": {
     "base_uri": "https://localhost:8080/",
     "height": 204
    },
    "deletable": false,
    "id": "qXaf5leo7CHr",
    "nbgrader": {
     "cell_type": "code",
     "checksum": "03a6b6486122907200ef39a158aba4fc",
     "grade": false,
     "grade_id": "cell-282a5c44db0c5259",
     "locked": false,
     "schema_version": 3,
     "solution": true,
     "task": false
    },
    "outputId": "8cb61c10-32c5-42da-f51f-d4ef252ca118"
   }
  },
  {
   "cell_type": "markdown",
   "source": [
    "**Task 1 - Test**"
   ],
   "metadata": {
    "id": "vNlDUCUdfV0o"
   }
  },
  {
   "cell_type": "code",
   "execution_count": 390,
   "source": [
    "# Task 1 - Test\r\n",
    "\r\n",
    "assert isinstance(df, pd.DataFrame), 'Have you created a DataFrame named `df`?'\r\n",
    "assert len(df) == 887\r\n"
   ],
   "outputs": [],
   "metadata": {
    "deletable": false,
    "editable": false,
    "id": "KS4QNZcIfV0o",
    "nbgrader": {
     "cell_type": "code",
     "checksum": "9d5903bf9f6e73bffaeb7880b33d0a38",
     "grade": true,
     "grade_id": "cell-dfb792f5ef91f211",
     "locked": true,
     "points": 1,
     "schema_version": 3,
     "solution": false,
     "task": false
    }
   }
  },
  {
   "cell_type": "markdown",
   "source": [
    "**Task 2** - Survival probability\n",
    "\n",
    "We'll start by calculating the probability of surviving; we'll write the probability as P(A)\n",
    "\n",
    "* calculate the cross tabulation for the `Pclass` and `Survived` variables and assign it to `cross_tab`.  Make sure to include the table margins.\n",
    "* using the cross tabulation results, calculate P(A) and assign it to the variable `p_a`\n",
    "\n",
    "*Hint: we write the probability of an event using a decimal, not a percent.*"
   ],
   "metadata": {
    "deletable": false,
    "editable": false,
    "id": "4shP8MH8CbrZ",
    "nbgrader": {
     "cell_type": "markdown",
     "checksum": "b54a79dc51bd50ced7d03bb1370aa9d3",
     "grade": false,
     "grade_id": "cell-82dac32bcc1fa69b",
     "locked": true,
     "schema_version": 3,
     "solution": false,
     "task": false
    }
   }
  },
  {
   "cell_type": "code",
   "execution_count": 391,
   "source": [
    "# Task 2\r\n",
    "\r\n",
    "# YOUR CODE HERE\r\n",
    "cross_tab = pd.crosstab(df['Pclass'], df['Survived'],margins=True)\r\n",
    "cross_tab_surv = pd.crosstab(df['Pclass'], df['Survived'], margins=True, normalize=True)\r\n",
    "p_a = cross_tab_surv[1]['All'].round(2)\r\n",
    "print('The value of P(A) is:', p_a)\r\n"
   ],
   "outputs": [
    {
     "output_type": "stream",
     "name": "stdout",
     "text": [
      "The value of P(A) is: 0.39\n"
     ]
    }
   ],
   "metadata": {
    "deletable": false,
    "id": "iDi0eFr1x-v_",
    "nbgrader": {
     "cell_type": "code",
     "checksum": "fc9b374ec61db6b520f49f75393fb99e",
     "grade": false,
     "grade_id": "cell-800eb0784f0daf9f",
     "locked": false,
     "schema_version": 3,
     "solution": true,
     "task": false
    }
   }
  },
  {
   "cell_type": "markdown",
   "source": [
    "**Task 2 - Test**"
   ],
   "metadata": {
    "id": "gh2JCwr7fV0p"
   }
  },
  {
   "cell_type": "code",
   "execution_count": 392,
   "source": [
    "# Task 2 - Test\r\n",
    "assert isinstance(cross_tab, pd.DataFrame), 'Did you create the cross tabulation DataFrame?'\r\n",
    "assert cross_tab.shape == (4,3), 'Did you remember to include the margins?'\r\n"
   ],
   "outputs": [],
   "metadata": {
    "deletable": false,
    "editable": false,
    "id": "7rqNlPJPfV0p",
    "nbgrader": {
     "cell_type": "code",
     "checksum": "7297dc09e6f8fa72c0a40e87ed2a3148",
     "grade": true,
     "grade_id": "cell-c4fbdfeb780e3bd6",
     "locked": true,
     "points": 1,
     "schema_version": 3,
     "solution": false,
     "task": false
    }
   }
  },
  {
   "cell_type": "markdown",
   "source": [
    "**Task 3** - First class probability\n",
    "\n",
    "Next we'll calculate the probability of being a First Class passenger; we'll write this probability as P(B)\n",
    "\n",
    "* using the cross tabulation results, calculate P(B) and assign it to the variable `p_b`\n",
    "\n",
    "*Hint: we write the probability of an event using a decimal, not a percent.*"
   ],
   "metadata": {
    "id": "ZV_UsohfC6r_"
   }
  },
  {
   "cell_type": "code",
   "execution_count": 393,
   "source": [
    "# Task 3\r\n",
    "\r\n",
    "# YOUR CODE HERE\r\n",
    "p_b = cross_tab_surv['All'][1].round(2)\r\n",
    "print('The value of P(B) is:', p_b)\r\n"
   ],
   "outputs": [
    {
     "output_type": "stream",
     "name": "stdout",
     "text": [
      "The value of P(B) is: 0.24\n"
     ]
    }
   ],
   "metadata": {
    "colab": {
     "base_uri": "https://localhost:8080/"
    },
    "deletable": false,
    "id": "5XUHyDlNfV0q",
    "nbgrader": {
     "cell_type": "code",
     "checksum": "a02d6adcf891f01d5c1235e3d84a7ab9",
     "grade": false,
     "grade_id": "cell-f4bd227006d12bc1",
     "locked": false,
     "schema_version": 3,
     "solution": true,
     "task": false
    },
    "outputId": "42a6739b-f8d2-4743-c5d7-d0e51800d9d9"
   }
  },
  {
   "cell_type": "markdown",
   "source": [
    "**Task 3 - Test**"
   ],
   "metadata": {
    "id": "Ac4ddTPHfV0q"
   }
  },
  {
   "cell_type": "code",
   "execution_count": 394,
   "source": [
    "# Task 3 - Test\r\n",
    "# Hidden tests - you will see the results when you submit to Canvas"
   ],
   "outputs": [],
   "metadata": {
    "deletable": false,
    "editable": false,
    "id": "ZLoKRMkjEs2D",
    "nbgrader": {
     "cell_type": "code",
     "checksum": "13ae4dd0e58da917a8281772cce84af4",
     "grade": true,
     "grade_id": "cell-28b49f01a6955c2f",
     "locked": true,
     "points": 1,
     "schema_version": 3,
     "solution": false,
     "task": false
    }
   }
  },
  {
   "cell_type": "markdown",
   "source": [
    "**Task 4** - Conditional probability: A and B\r\n",
    "\r\n",
    "Now, we'll calculate the conditional probability of being a First Class passenger **and** surviving. We write this as P(A $\\cap$ B) and we read it as \"the probability of A and B\".\r\n",
    "\r\n",
    "* calculate the conditional probability P(A $\\cap$ B) and assign it to the variable `p_a_and_b`\r\n",
    "\r\n",
    "*Hint: we write the probability of an event using a decimal, not a percent.*"
   ],
   "metadata": {
    "id": "3tJKQmH-Cm6u"
   }
  },
  {
   "cell_type": "code",
   "execution_count": 395,
   "source": [
    "# Task 4\r\n",
    "\r\n",
    "# YOUR CODE HERE\r\n",
    "p_a_and_b = cross_tab_surv[1][1].round(2)\r\n",
    "print('The value of P(A and B) is:', p_a_and_b)\r\n"
   ],
   "outputs": [
    {
     "output_type": "stream",
     "name": "stdout",
     "text": [
      "The value of P(A and B) is: 0.15\n"
     ]
    }
   ],
   "metadata": {
    "colab": {
     "base_uri": "https://localhost:8080/"
    },
    "deletable": false,
    "id": "_XREg3idfV0t",
    "nbgrader": {
     "cell_type": "code",
     "checksum": "60dc8857f800ac99fea24ec5119db95c",
     "grade": false,
     "grade_id": "cell-c124ed27b905efad",
     "locked": false,
     "schema_version": 3,
     "solution": true,
     "task": false
    },
    "outputId": "7fee8289-9948-4cfa-9076-a4edcd97d00d"
   }
  },
  {
   "cell_type": "markdown",
   "source": [
    "**Task 4 - Test**"
   ],
   "metadata": {
    "id": "X5QTHXb7fV0t"
   }
  },
  {
   "cell_type": "code",
   "execution_count": 396,
   "source": [
    "# Task 4 - Test\r\n",
    "# Hidden tests - you will see the results when you submit to Canvas"
   ],
   "outputs": [],
   "metadata": {
    "deletable": false,
    "editable": false,
    "id": "ie2WmfDlfV0t",
    "nbgrader": {
     "cell_type": "code",
     "checksum": "3de2a100e4af19c0c1bf9e8daaf97f39",
     "grade": true,
     "grade_id": "cell-94f5711349cc6887",
     "locked": true,
     "points": 1,
     "schema_version": 3,
     "solution": false,
     "task": false
    }
   }
  },
  {
   "cell_type": "markdown",
   "source": [
    "**Task 5** - Conditional probability: A given B\r\n",
    "\r\n",
    "Next, we'll calculate the conditional probability of surviving given the person was a First Class passenger. We write this as P(A|B) and we read it as \"the probability of A given B\".\r\n",
    "\r\n",
    "* generate a new cross tabulation with the parameter `normalize='index'`; name this table `cross_tab_norm`\r\n",
    "* calculate the conditional probability P(A|B) and assign it to the variable `p_a_given_b`\r\n",
    "\r\n",
    "*Hint: we write the probability of an event using a decimal, not a percent.*"
   ],
   "metadata": {
    "id": "MDdOtbnlfV0t"
   }
  },
  {
   "cell_type": "code",
   "execution_count": 397,
   "source": [
    "# Task 5\r\n",
    "\r\n",
    "# YOUR CODE HERE\r\n",
    "cross_tab_norm = pd.crosstab(df['Pclass'], df['Survived'], normalize='index')\r\n",
    "p_a_given_b = cross_tab_norm[1][1].round(2)\r\n",
    "print('The value of P(A given B) is:', p_a_given_b)"
   ],
   "outputs": [
    {
     "output_type": "stream",
     "name": "stdout",
     "text": [
      "The value of P(A given B) is: 0.63\n"
     ]
    }
   ],
   "metadata": {
    "colab": {
     "base_uri": "https://localhost:8080/"
    },
    "deletable": false,
    "id": "VzHakDD6DOcL",
    "nbgrader": {
     "cell_type": "code",
     "checksum": "d01643c7433d3317f3696af59d4537ab",
     "grade": false,
     "grade_id": "cell-7b16a6ecf032b8ba",
     "locked": false,
     "schema_version": 3,
     "solution": true,
     "task": false
    },
    "outputId": "781832c1-3f48-4bea-b337-280a412000d4"
   }
  },
  {
   "cell_type": "markdown",
   "source": [
    "**Task 5 - Test**"
   ],
   "metadata": {
    "deletable": false,
    "editable": false,
    "id": "HVmkR9SXfV0u",
    "nbgrader": {
     "cell_type": "markdown",
     "checksum": "bf34b470e7835f50b0d6f52e6ac60730",
     "grade": false,
     "grade_id": "cell-5d1717dbbd5adc5a",
     "locked": true,
     "schema_version": 3,
     "solution": false,
     "task": false
    }
   }
  },
  {
   "cell_type": "code",
   "execution_count": 398,
   "source": [
    "# Task 5 - Test\r\n",
    "assert isinstance(cross_tab_norm, pd.DataFrame), 'Did you create the new cross tabulation DataFrame?'"
   ],
   "outputs": [],
   "metadata": {
    "deletable": false,
    "editable": false,
    "id": "IgphlpCOFMDe",
    "nbgrader": {
     "cell_type": "code",
     "checksum": "8501c6490ac3e0cbd7399be2c56c24c0",
     "grade": true,
     "grade_id": "cell-e873df7d0460dbc5",
     "locked": true,
     "points": 1,
     "schema_version": 3,
     "solution": false,
     "task": false
    }
   }
  },
  {
   "cell_type": "markdown",
   "source": [
    "**Task 6** - Conditional probability: B given A\r\n",
    "\r\n",
    "Okay, now we'll calculate the conditional probability of being a First Class passenger given the person survived. We write this as P(B|A) and we read it as \"the probability of B given A\".\r\n",
    "\r\n",
    "* create a new cross tabulation DataFrame and name it `cross_tab_norm2`.\r\n",
    "    * *Hint: You may find it helpful to reverse the order of the columns when you calculate the new table*\r\n",
    "* calculate the conditional probability P(B|A) and assign it to the variable `p_b_given_a`"
   ],
   "metadata": {
    "id": "PheF3oSXfV0u"
   }
  },
  {
   "cell_type": "code",
   "execution_count": 399,
   "source": [
    "# Task 6\r\n",
    "cross_tab_norm2 = pd.crosstab(df['Survived'], df['Pclass'], normalize='index')\r\n",
    "# YOUR CODE HERE\r\n",
    "p_b_given_a = cross_tab_norm2[1][1].round(2);\r\n",
    "print('The value of P(B given A) is:', p_b_given_a)\r\n",
    "cross_tab_norm2\r\n"
   ],
   "outputs": [
    {
     "output_type": "stream",
     "name": "stdout",
     "text": [
      "The value of P(B given A) is: 0.4\n"
     ]
    },
    {
     "output_type": "execute_result",
     "data": {
      "text/html": [
       "<div>\n",
       "<style scoped>\n",
       "    .dataframe tbody tr th:only-of-type {\n",
       "        vertical-align: middle;\n",
       "    }\n",
       "\n",
       "    .dataframe tbody tr th {\n",
       "        vertical-align: top;\n",
       "    }\n",
       "\n",
       "    .dataframe thead th {\n",
       "        text-align: right;\n",
       "    }\n",
       "</style>\n",
       "<table border=\"1\" class=\"dataframe\">\n",
       "  <thead>\n",
       "    <tr style=\"text-align: right;\">\n",
       "      <th>Pclass</th>\n",
       "      <th>1</th>\n",
       "      <th>2</th>\n",
       "      <th>3</th>\n",
       "    </tr>\n",
       "    <tr>\n",
       "      <th>Survived</th>\n",
       "      <th></th>\n",
       "      <th></th>\n",
       "      <th></th>\n",
       "    </tr>\n",
       "  </thead>\n",
       "  <tbody>\n",
       "    <tr>\n",
       "      <th>0</th>\n",
       "      <td>0.146789</td>\n",
       "      <td>0.177982</td>\n",
       "      <td>0.675229</td>\n",
       "    </tr>\n",
       "    <tr>\n",
       "      <th>1</th>\n",
       "      <td>0.397661</td>\n",
       "      <td>0.254386</td>\n",
       "      <td>0.347953</td>\n",
       "    </tr>\n",
       "  </tbody>\n",
       "</table>\n",
       "</div>"
      ],
      "text/plain": [
       "Pclass           1         2         3\n",
       "Survived                              \n",
       "0         0.146789  0.177982  0.675229\n",
       "1         0.397661  0.254386  0.347953"
      ]
     },
     "metadata": {},
     "execution_count": 399
    }
   ],
   "metadata": {
    "colab": {
     "base_uri": "https://localhost:8080/"
    },
    "deletable": false,
    "id": "6I2m6yBFfV0u",
    "nbgrader": {
     "cell_type": "code",
     "checksum": "f3ed692f36fb25987efec83bd7cfffab",
     "grade": false,
     "grade_id": "cell-78df1483b44c6dd6",
     "locked": false,
     "schema_version": 3,
     "solution": true,
     "task": false
    },
    "outputId": "daf45462-b819-413b-ff1e-8a9b185405a2"
   }
  },
  {
   "cell_type": "markdown",
   "source": [
    "**Task 6 - Test**"
   ],
   "metadata": {
    "id": "bK-0gwSLfV0v"
   }
  },
  {
   "cell_type": "code",
   "execution_count": 400,
   "source": [
    "# Task 6 - Test\r\n",
    "assert isinstance(cross_tab_norm2, pd.DataFrame), 'Did you create another new cross tabulation DataFrame?'"
   ],
   "outputs": [],
   "metadata": {
    "deletable": false,
    "editable": false,
    "id": "nPSLTZJXfV0v",
    "nbgrader": {
     "cell_type": "code",
     "checksum": "df2c67e9cb97b4905a2d83f50b1158cb",
     "grade": true,
     "grade_id": "cell-6b90b196728d2c90",
     "locked": true,
     "points": 1,
     "schema_version": 3,
     "solution": false,
     "task": false
    }
   }
  },
  {
   "cell_type": "markdown",
   "source": [
    "**Task 7**\n",
    "\n",
    "So far, we have calculated the individual probabilities: P(A), P(B), P(A $\\cap$ B), P(A|B), and P(B|A). Now we're going to calculate the conditional probability P(A|B) using the following equation:\n",
    "\n",
    "$$P(A|B) = \\frac{P(A \\cap B)}{P(B)}$$\n",
    "\n",
    "* calculate the value of P(A|B) and assign it to the variable `calc1_p_a_given_b`\n",
    "* compare it to your value from Task 5 by testing if `p_a_given_b` is equal to `calc1_p_a_given_b` (use an assert statement!)"
   ],
   "metadata": {
    "id": "lxYJhvp1DkLS"
   }
  },
  {
   "cell_type": "code",
   "execution_count": 401,
   "source": [
    "# Task 7\r\n",
    "calc1_p_a_given_b = (p_a_and_b / p_b).round(2)\r\n",
    "# YOUR CODE HERE\r\n",
    "assert p_a_given_b.round(1) == calc1_p_a_given_b.round(1), str(p_a_given_b) + \" \" + str(calc1_p_a_given_b)\r\n",
    "print('The calculated value of P(A|B) is:', calc1_p_a_given_b)"
   ],
   "outputs": [
    {
     "output_type": "stream",
     "name": "stdout",
     "text": [
      "The calculated value of P(A|B) is: 0.62\n"
     ]
    }
   ],
   "metadata": {
    "colab": {
     "base_uri": "https://localhost:8080/"
    },
    "deletable": false,
    "id": "6_Vq5xZ2fV0v",
    "nbgrader": {
     "cell_type": "code",
     "checksum": "7c6c9ad080c3bdf1865ca3d105c53dc8",
     "grade": false,
     "grade_id": "cell-f247272a2857b88b",
     "locked": false,
     "schema_version": 3,
     "solution": true,
     "task": false
    },
    "outputId": "f74eeefa-3c07-4c35-edab-55626d129481"
   }
  },
  {
   "cell_type": "markdown",
   "source": [
    "**Task 7 - Test**"
   ],
   "metadata": {
    "id": "zr9B_5g8fV0w"
   }
  },
  {
   "cell_type": "code",
   "execution_count": 402,
   "source": [
    "# Task 7 - Test\r\n",
    "\r\n",
    "# Use this test to check your answer before submitting to Canvas/CodeGrade\r\n",
    "assert round(calc1_p_a_given_b, 1)== round(p_a_given_b, 1), 'Did you use the correct variables in your calculation?'\r\n"
   ],
   "outputs": [],
   "metadata": {
    "deletable": false,
    "editable": false,
    "id": "qTxbF-uRfV0w",
    "nbgrader": {
     "cell_type": "code",
     "checksum": "869e15b8e27675436cd3f1aa6caaf6dd",
     "grade": true,
     "grade_id": "cell-04815f7901139e23",
     "locked": true,
     "points": 1,
     "schema_version": 3,
     "solution": false,
     "task": false
    }
   }
  },
  {
   "cell_type": "markdown",
   "source": [
    "**Task 8**\n",
    "\n",
    "Finally, we're at the last calculation! We want to calculate P(A|B) again, using Bayes' Theorem:\n",
    "\n",
    "$$P(A|B) = \\frac{P(B|A)P(A)}{P(B)}$$\n",
    "\n",
    "* calculate the value of P(A|B) and assign it to the variable `calc2_p_a_given_b` (*notice the new variable name*)\n",
    "* compare it to your value from Task 5 by testing if p_a_given_b is equal to `calc2_p_a_given_b` (again, use an assert statement)"
   ],
   "metadata": {
    "id": "M2pRVt7ADsFk"
   }
  },
  {
   "cell_type": "code",
   "execution_count": 403,
   "source": [
    "# Task 8\r\n",
    "\r\n",
    "# YOUR CODE HERE\r\n",
    "calc2_p_a_given_b = (p_b_given_a * p_a / p_b).round(2)\r\n",
    "print(\"The calculated value of P(A|B) using Bayes' Theorem is:\", calc2_p_a_given_b)\r\n"
   ],
   "outputs": [
    {
     "output_type": "stream",
     "name": "stdout",
     "text": [
      "The calculated value of P(A|B) using Bayes' Theorem is: 0.65\n"
     ]
    }
   ],
   "metadata": {
    "colab": {
     "base_uri": "https://localhost:8080/"
    },
    "deletable": false,
    "id": "pC0WbOFifV0w",
    "nbgrader": {
     "cell_type": "code",
     "checksum": "8076b6d8ba94230f061309165e69793f",
     "grade": false,
     "grade_id": "cell-c917c91e48739649",
     "locked": false,
     "schema_version": 3,
     "solution": true,
     "task": false
    },
    "outputId": "b20b8b19-69c5-4fb4-dd95-f1472884803e"
   }
  },
  {
   "cell_type": "markdown",
   "source": [
    "**Task 8 - Test**"
   ],
   "metadata": {
    "id": "wSpwrX8efV0w"
   }
  },
  {
   "cell_type": "code",
   "execution_count": 404,
   "source": [
    "# Task 8 - Test\r\n",
    "\r\n",
    "# Use this test to check your answer before submitting to Canvas/CodeGrade\r\n",
    "assert round(calc2_p_a_given_b, 1) == round(p_a_given_b, 1), 'Did you use the correct variables in your calculation?'"
   ],
   "outputs": [],
   "metadata": {
    "deletable": false,
    "editable": false,
    "id": "wQhD60bafV0w",
    "nbgrader": {
     "cell_type": "code",
     "checksum": "8dafbfdaeb584218c28d4f26ebde540c",
     "grade": true,
     "grade_id": "cell-5b3ded4417bd9d18",
     "locked": true,
     "points": 1,
     "schema_version": 3,
     "solution": false,
     "task": false
    }
   }
  },
  {
   "cell_type": "markdown",
   "source": [
    "## Part B\n",
    "\n",
    "### Hogwarts Sorting Hat and Conditional Probabilities\n",
    "\n",
    "Use the following information to complete Tasks 9 - 13\n",
    "\n",
    "\n",
    "Students arriving at Hogwarts are sorted into one of the four residential houses -- Gryffindor, Hufflepuff, Ravenclaw, and Slytherin -- by the magical Sorting Hat.\n",
    "\n",
    "In theory, the Hat is supposed to examine each student's personality, consider his or her wishes, and then place the student into the most appropriate house. However, after a thousand years, the Hat has gotten pretty lazy, so it has simplified its sorting process into a two-step algorithm:\n",
    "\n",
    "* All evil students go into Slytherin, obviously.\n",
    "\n",
    "* Everybody else is just randomly sorted into one of the four houses, with a 40% probability of being put into Hufflepuff and a 20% probability of being put into each of the three other houses.\n",
    "\n",
    "Hermione is shocked when she's sorted into Slytherin! She's never thought of herself as evil, but now that she considers it, becoming the future Dark Lady of Magical Britain does have some appeal...\n",
    "\n",
    "**If 10% of new Hogwarts students are evil, what is the probability that a randomly chosen Slytherin is evil?**\n",
    "\n",
    "*Hint: the value you want is P(Evil | Slytherin).*"
   ],
   "metadata": {
    "id": "SB1m04Zf16Lo"
   }
  },
  {
   "cell_type": "markdown",
   "source": [
    "**Task 9** - Write out probability steps\r\n",
    "\r\n",
    "Write the relationship used to P(Evil|Slitherin) from P(Slithern|Evil), p(Evil) and P(Slytherin): \r\n",
    "\r\n",
    "* this Task is not autograded; write out your steps in the following markdown cell"
   ],
   "metadata": {
    "id": "TB-dEdYIvXev"
   }
  },
  {
   "cell_type": "markdown",
   "source": [
    "**Task 9** - ANSWER\r\n",
    "p(evil) = .1\r\n",
    "p(Slytherin|Evil) = 1\r\n",
    "p(Sytherin|!Evil) = .2 * .9\r\n",
    "p(Evil|Slytherin) = p(Slytherin|Evil) * p(Evil) / p(Slytherin)"
   ],
   "metadata": {
    "id": "KcZoKPPOfV0x"
   }
  },
  {
   "cell_type": "markdown",
   "source": [
    "**Task 10** - Determine P(Slytherin|Evil)\n",
    "\n",
    "Using the description in Part B above, determine P(Slytherin|Evil)\n",
    "\n",
    "* assign your value to the variable `p_slytherin_given_evil`"
   ],
   "metadata": {
    "id": "HzceET6m6qH-"
   }
  },
  {
   "cell_type": "code",
   "execution_count": 405,
   "source": [
    "# Task 10\r\n",
    "\r\n",
    "# YOUR CODE HERE\r\n",
    "p_slytherin_given_evil =  1\r\n",
    "print(\"The probability of being Slytherin given a student is evil is:\", p_slytherin_given_evil)"
   ],
   "outputs": [
    {
     "output_type": "stream",
     "name": "stdout",
     "text": [
      "The probability of being Slytherin given a student is evil is: 1\n"
     ]
    }
   ],
   "metadata": {
    "deletable": false,
    "id": "xw6XgTeYfV0x",
    "nbgrader": {
     "cell_type": "code",
     "checksum": "354796566a2c53dc24495ccba5ca8cc1",
     "grade": false,
     "grade_id": "cell-261fe68593bd204f",
     "locked": false,
     "schema_version": 3,
     "solution": true,
     "task": false
    },
    "outputId": "84989269-7f16-4af1-f623-325aea6e9a58"
   }
  },
  {
   "cell_type": "markdown",
   "source": [
    "**Task 10 - Test**"
   ],
   "metadata": {
    "id": "eqWOb2NifV0x"
   }
  },
  {
   "cell_type": "code",
   "execution_count": 406,
   "source": [
    "# Task 10 - Test\r\n",
    "# Hidden tests - you will see the results when you submit to Canvas"
   ],
   "outputs": [],
   "metadata": {
    "deletable": false,
    "editable": false,
    "id": "On-8VjnAfV0y",
    "nbgrader": {
     "cell_type": "code",
     "checksum": "a4b2132c1b2837629b2c0cf2ac6388da",
     "grade": true,
     "grade_id": "cell-5ea3c604f8c46a38",
     "locked": true,
     "points": 1,
     "schema_version": 3,
     "solution": false,
     "task": false
    }
   }
  },
  {
   "cell_type": "markdown",
   "source": [
    "**Task 11** - Determine P(Evil)\n",
    "\n",
    "Using the description in Part B above, determine P(Evil)\n",
    "\n",
    "* assign your value to the variable `p_evil`"
   ],
   "metadata": {
    "id": "J5tvhwT662fm"
   }
  },
  {
   "cell_type": "code",
   "execution_count": 407,
   "source": [
    "# Task 11\r\n",
    "\r\n",
    "# YOUR CODE HERE\r\n",
    "p_evil = 0.1\r\n",
    "print(\"The probability of being an evil student is:\", p_evil)"
   ],
   "outputs": [
    {
     "output_type": "stream",
     "name": "stdout",
     "text": [
      "The probability of being an evil student is: 0.1\n"
     ]
    }
   ],
   "metadata": {
    "deletable": false,
    "id": "QJzsVlK2fV0y",
    "nbgrader": {
     "cell_type": "code",
     "checksum": "d9fa35e322f690a6c3211fab91abad2f",
     "grade": false,
     "grade_id": "cell-6c3502e03a1033ff",
     "locked": false,
     "schema_version": 3,
     "solution": true,
     "task": false
    },
    "outputId": "ff8e5726-7320-432a-8f7e-9760c2f59c11"
   }
  },
  {
   "cell_type": "markdown",
   "source": [
    "**Task 11 - Test**"
   ],
   "metadata": {
    "id": "LVE54OXmfV0y"
   }
  },
  {
   "cell_type": "code",
   "execution_count": 408,
   "source": [
    "# Task 11 - Test\r\n",
    "# Hidden tests - you will see the results when you submit to Canvas"
   ],
   "outputs": [],
   "metadata": {
    "deletable": false,
    "editable": false,
    "id": "XqjOJXAz67fe",
    "nbgrader": {
     "cell_type": "code",
     "checksum": "6169e3a8b73f62b9867075c2781dde39",
     "grade": true,
     "grade_id": "cell-e2ec0f21d4609dfd",
     "locked": true,
     "points": 1,
     "schema_version": 3,
     "solution": false,
     "task": false
    }
   }
  },
  {
   "cell_type": "markdown",
   "source": [
    "**Task 12** - Determine P(Slytherin)\r\n",
    "\r\n",
    "Hint: This is a little tricky.  This is equal to the probability of a student being evil (and therefore being sorted into Slytherin) **added to** the probability of not being evil and being sorted into Slytherin.\r\n",
    "\r\n",
    "* assign the value of P(NOT Evil and Slytherin) to `p_not_evil_and_slytherin`\r\n",
    "* calculate the value of P(Slytherin) and assign it to `p_slytherin`"
   ],
   "metadata": {
    "id": "rbNyx9Pd6_ze"
   }
  },
  {
   "cell_type": "code",
   "execution_count": 409,
   "source": [
    "# Task 12\r\n",
    "\r\n",
    "# YOUR CODE HERE\r\n",
    "p_not_evil_and_slytherin = .2 * .9\r\n",
    "p_slytherin = p_evil + (p_not_evil_and_slytherin)\r\n",
    "print(\"The probability of a student being in Slytherin is:\", p_slytherin)\r\n"
   ],
   "outputs": [
    {
     "output_type": "stream",
     "name": "stdout",
     "text": [
      "The probability of a student being in Slytherin is: 0.28\n"
     ]
    }
   ],
   "metadata": {
    "deletable": false,
    "id": "V7Idj7fWfV0y",
    "nbgrader": {
     "cell_type": "code",
     "checksum": "ff61bb598a9362d4a1df80f9d14ac513",
     "grade": false,
     "grade_id": "cell-4901b7dcdcfe8395",
     "locked": false,
     "schema_version": 3,
     "solution": true,
     "task": false
    },
    "outputId": "db6b994b-aa60-4ef1-c974-0718f80ec286"
   }
  },
  {
   "cell_type": "markdown",
   "source": [
    "**Task 12 - Test**"
   ],
   "metadata": {
    "id": "HBbbPtQ8fV0z"
   }
  },
  {
   "cell_type": "code",
   "execution_count": 410,
   "source": [
    "# Task 12 - Test\r\n",
    "# Hidden tests - you will see the results when you submit to Canvas"
   ],
   "outputs": [],
   "metadata": {
    "deletable": false,
    "editable": false,
    "id": "ONbh5xwlfV0z",
    "nbgrader": {
     "cell_type": "code",
     "checksum": "eac335f215b9109dd8e1560e725cb72a",
     "grade": true,
     "grade_id": "cell-eb712e5d7e1db780",
     "locked": true,
     "points": 1,
     "schema_version": 3,
     "solution": false,
     "task": false
    }
   }
  },
  {
   "cell_type": "markdown",
   "source": [
    "**Task 13** - Calculate P(Evil|Slytherin)\n",
    "\n",
    "We have arrived at the final Sorting Hat calculation! Now, we're are going to calculate the probability of P(Evil|Slytherin) using the following equation:\n",
    "\n",
    "$$P(Evil|Slytherin)= \\frac{P(Slytherin|Evil)P(Evil)}{P(Slytherin)}$$\n",
    "\n",
    "* calculate P(Evil|Slytherin) and assign it to `p_evil_given_slytherin`"
   ],
   "metadata": {
    "id": "K_hfqxQg7pZo"
   }
  },
  {
   "cell_type": "code",
   "execution_count": 411,
   "source": [
    "# Task 13\r\n",
    "p_evil_given_slytherin = (p_slytherin_given_evil * p_evil / p_slytherin)\r\n",
    "print(p_evil_given_slytherin)\r\n",
    "\r\n",
    "# YOUR CODE HERE\r\n"
   ],
   "outputs": [
    {
     "output_type": "stream",
     "name": "stdout",
     "text": [
      "0.35714285714285715\n"
     ]
    }
   ],
   "metadata": {
    "colab": {
     "base_uri": "https://localhost:8080/"
    },
    "deletable": false,
    "id": "_SvOUvMOfV0z",
    "nbgrader": {
     "cell_type": "code",
     "checksum": "fb079c77bb6d78ddc7636805eac75209",
     "grade": false,
     "grade_id": "cell-8739d8cd9cb5d70e",
     "locked": false,
     "schema_version": 3,
     "solution": true,
     "task": false
    },
    "outputId": "85e981ee-8c74-4fdc-cbcc-e3d4853f4826"
   }
  },
  {
   "cell_type": "markdown",
   "source": [
    "**Task 13 - Test**"
   ],
   "metadata": {
    "id": "Z9QDNH8DfV0z"
   }
  },
  {
   "cell_type": "code",
   "execution_count": 412,
   "source": [
    "# Task 13 - Test\r\n",
    "# Hidden tests - you will see the results when you submit to Canvas"
   ],
   "outputs": [],
   "metadata": {
    "deletable": false,
    "editable": false,
    "id": "xMt0fykG7_BR",
    "nbgrader": {
     "cell_type": "code",
     "checksum": "355ac95a73cd869948cb4a96dabf5dc4",
     "grade": true,
     "grade_id": "cell-aa9312dca132f04b",
     "locked": true,
     "points": 1,
     "schema_version": 3,
     "solution": false,
     "task": false
    }
   }
  }
 ],
 "metadata": {
  "colab": {
   "collapsed_sections": [],
   "name": "LS_DS_124_Bayesian_Inference_Assignment_AG.ipynb",
   "provenance": []
  },
  "kernelspec": {
   "name": "python3",
   "display_name": "Python 3.9.6 64-bit"
  },
  "language_info": {
   "codemirror_mode": {
    "name": "ipython",
    "version": 3
   },
   "file_extension": ".py",
   "mimetype": "text/x-python",
   "name": "python",
   "nbconvert_exporter": "python",
   "pygments_lexer": "ipython3",
   "version": "3.9.6"
  },
  "interpreter": {
   "hash": "4b7a67c094ca4859574ab7812cb20959fc8d8ba5f9f349a7149ef35bab6b6336"
  }
 },
 "nbformat": 4,
 "nbformat_minor": 1
}